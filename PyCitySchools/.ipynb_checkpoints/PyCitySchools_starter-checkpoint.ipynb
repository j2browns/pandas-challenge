{
 "cells": [
  {
   "cell_type": "markdown",
   "metadata": {},
   "source": [
    "### Note\n",
    "* Instructions have been included for each segment. You do not have to follow them exactly, but they are included to help you think through the steps."
   ]
  },
  {
   "cell_type": "code",
   "execution_count": 1,
   "metadata": {},
   "outputs": [],
   "source": [
    "# Dependencies and Setup\n",
    "import pandas as pd\n",
    "\n",
    "# File to Load (Remember to Change These)\n",
    "school_data_to_load = \"Resources/schools_complete.csv\"\n",
    "student_data_to_load = \"Resources/students_complete.csv\"\n",
    "\n",
    "# Read School and Student Data File and store into Pandas DataFrames\n",
    "school_data = pd.read_csv(school_data_to_load)\n",
    "student_data = pd.read_csv(student_data_to_load)\n",
    "\n",
    "# Combine the data into a single dataset.  \n",
    "school_data_complete = pd.merge(student_data, school_data, how=\"left\", on=[\"school_name\", \"school_name\"])\n"
   ]
  },
  {
   "cell_type": "markdown",
   "metadata": {},
   "source": [
    "## District Summary\n",
    "\n",
    "* Calculate the total number of schools\n",
    "\n",
    "* Calculate the total number of students\n",
    "\n",
    "* Calculate the total budget\n",
    "\n",
    "* Calculate the average math score \n",
    "\n",
    "* Calculate the average reading score\n",
    "\n",
    "* Calculate the percentage of students with a passing math score (70 or greater)\n",
    "\n",
    "* Calculate the percentage of students with a passing reading score (70 or greater)\n",
    "\n",
    "* Calculate the percentage of students who passed math **and** reading (% Overall Passing)\n",
    "\n",
    "* Create a dataframe to hold the above results\n",
    "\n",
    "* Optional: give the displayed data cleaner formatting"
   ]
  },
  {
   "cell_type": "code",
   "execution_count": 2,
   "metadata": {},
   "outputs": [
    {
     "name": "stdout",
     "output_type": "stream",
     "text": [
      "Overall District Summary\n",
      "\n",
      " Num Schools   Students   Total Budget   Ave_Math     Ave_Read    %Pass_Math   %Pass_Read   %Pass_Both \n",
      "     15          39170      $24649428      78.99        81.88       74.98%       85.81%       65.17%   \n"
     ]
    }
   ],
   "source": [
    "#school_data_complete.head()\n",
    "#finding unique number of schools\n",
    "#schools is an array with each unique school name\n",
    "schools = len(school_data_complete[\"school_name\"].unique())\n",
    "\n",
    "#finding number of students\n",
    "#need to go on student ID since names repeat.  Using unique to make sure don't have duplicates\n",
    "students = len(school_data_complete[\"Student ID\"].unique())\n",
    "\n",
    "school_data_complete['pass read']=school_data_complete['reading_score'].ge(70) #ge in pandas is greater than equal to\n",
    "school_data_complete['pass math']=school_data_complete['math_score'].ge(70)\n",
    "school_data_complete['pass both']=school_data_complete.loc[:,\"pass read\"]&school_data_complete.loc[:,\"pass math\"]\n",
    "\n",
    "#finding total budget\n",
    "#first create a group on school name\n",
    "#then from group find unique number of budgets as an array\n",
    "#convert array into dataframe for easier manipulation\n",
    "grouped_schools = school_data_complete.groupby([\"school_name\"])\n",
    "school_budgets = grouped_schools[\"budget\"].unique()\n",
    "school_budgets_df = pd.DataFrame({\"school_budget\": school_budgets})\n",
    "school_budgets_df = school_budgets_df.copy()#creating copy to save memory (per 06-Ins_group )\n",
    "school_budgets_df[\"school_budget\"] = school_budgets_df.loc[:,\"school_budget\"].astype(float) #convert to float\n",
    "total_budget = school_budgets_df[\"school_budget\"].sum() #sum column of school budget to get total budget\n",
    "\n",
    "ave_read_score = round((school_data_complete[\"reading_score\"].mean()),2)\n",
    "ave_math_score = round((school_data_complete[\"math_score\"].mean()),2)\n",
    "\n",
    "#number passing math\n",
    "num_math_pass = 0\n",
    "#Calculate the percentage of students with a passing math score (70 or greater)\n",
    "math_pass = school_data_complete[\"math_score\"].ge(70)\n",
    "for row in math_pass:\n",
    "    if row == True:\n",
    "        num_math_pass += 1\n",
    "\n",
    "per_pass_math = round((num_math_pass/students*100),2)        \n",
    "\n",
    "#number passing reading\n",
    "num_read_pass = 0\n",
    "#Calculate the percentage of students with a passing math score (70 or greater)\n",
    "read_pass = school_data_complete[\"reading_score\"].ge(70)\n",
    "for row in read_pass:\n",
    "    if row == True:\n",
    "        num_read_pass += 1\n",
    "        \n",
    "per_pass_read = round((num_read_pass/students*100),2)\n",
    "#print(f\"Percent of students greater than 70 in reading {per_pass_read}\")\n",
    "\n",
    "num_read_and_math_pass = 0\n",
    "\n",
    "for i in range (0,len(read_pass)):\n",
    "    if read_pass[i] and math_pass[i]:\n",
    "        num_read_and_math_pass += 1\n",
    "\n",
    "per_pass_read_math = round((num_read_and_math_pass/students*100),2)\n",
    "\n",
    "#print(f\"Percent of students greater than 70 in reading and math {per_pass_read_math}\")\n",
    "\n",
    "summary_1_df = pd.DataFrame({\"Num Schools\":[schools],\n",
    "                            \"Students\":[students],\n",
    "                            \"Total Budget\": \"$\"+str(int(total_budget)),\n",
    "                            \"Ave_Math\": ave_math_score,\n",
    "                            \"Ave_Read\": ave_read_score,\n",
    "                            \"%Pass_Math\": str(per_pass_math)+\"%\",\n",
    "                            \"%Pass_Read\": str(per_pass_read)+\"%\",\n",
    "                            \"%Pass_Both\":str(per_pass_read_math)+\"%\"})\n",
    "\n",
    "print(\"Overall District Summary\")\n",
    "print(\"\")\n",
    "print(summary_1_df.to_string(col_space = 12, index = False,\n",
    "                            index_names=False, justify = \"center\",max_colwidth = 20))"
   ]
  },
  {
   "cell_type": "code",
   "execution_count": null,
   "metadata": {},
   "outputs": [],
   "source": []
  },
  {
   "cell_type": "markdown",
   "metadata": {},
   "source": [
    "## School Summary"
   ]
  },
  {
   "cell_type": "markdown",
   "metadata": {},
   "source": [
    "* Create an overview table that summarizes key metrics about each school, including:\n",
    "  * School Name\n",
    "  * School Type\n",
    "  * Total Students\n",
    "  * Total School Budget\n",
    "  * Per Student Budget\n",
    "  * Average Math Score\n",
    "  * Average Reading Score\n",
    "  * % Passing Math\n",
    "  * % Passing Reading\n",
    "  * % Overall Passing (The percentage of students that passed math **and** reading.)\n",
    "  \n",
    "* Create a dataframe to hold the above results"
   ]
  },
  {
   "cell_type": "code",
   "execution_count": 18,
   "metadata": {},
   "outputs": [
    {
     "name": "stdout",
     "output_type": "stream",
     "text": [
      "\n",
      "School Summaries\n",
      "\n",
      "                         type     students    budget   budg/stud   ave math   ave read  % pass math % pass read % pass both\n",
      "Bailey High School    [District]    4976      3124928     $628       77.05      81.03       66.7%       81.9%       54.6%  \n",
      "Cabrera High School    [Charter]    1858      1081356     $582       83.06      83.98       94.1%       97.0%       91.3%  \n",
      "Figueroa High School  [District]    2949      1884411     $639       76.71      81.16       66.0%       80.7%       53.2%  \n",
      "Ford High School      [District]    2739      1763916     $644       77.10      80.75       68.3%       79.3%       54.3%  \n",
      "Griffin High School    [Charter]    1468       917500     $625       83.35      83.82       93.4%       97.1%       90.6%  \n",
      "Hernandez High Sc...  [District]    4635      3022020     $652       77.29      80.93       66.8%       80.9%       53.5%  \n",
      "Holden High School     [Charter]     427       248087     $581       83.80      83.81       92.5%       96.2%       89.2%  \n",
      "Huang High School     [District]    2917      1910635     $655       76.63      81.18       65.7%       81.3%       53.5%  \n",
      "Johnson High School   [District]    4761      3094650     $650       77.07      80.97       66.1%       81.2%       53.5%  \n",
      "Pena High School       [Charter]     962       585858     $609       83.84      84.04       94.6%       96.0%       90.5%  \n",
      "Rodriguez High Sc...  [District]    3999      2547363     $637       76.84      80.74       66.4%       80.2%       53.0%  \n",
      "Shelton High School    [Charter]    1761      1056600     $600       83.36      83.73       93.9%       95.8%       89.9%  \n",
      "Thomas High School     [Charter]    1635      1043130     $638       83.42      83.85       93.3%       97.3%       91.0%  \n",
      "Wilson High School     [Charter]    2283      1319574     $578       83.27      83.99       93.9%       96.5%       90.6%  \n",
      "Wright High School     [Charter]    1800      1049400     $583       83.68      83.96       93.3%       96.6%       90.3%  \n"
     ]
    }
   ],
   "source": [
    "#getting school budgets\n",
    "school_budget = grouped_schools[\"budget\"].unique()\n",
    "school_budget = school_budget.astype(float)\n",
    "\n",
    "school_students = grouped_schools[\"Student ID\"].count()\n",
    "\n",
    "school_pass_math = grouped_schools[\"pass math\"].sum()\n",
    "school_pass_read = grouped_schools[\"pass read\"].sum()\n",
    "school_pass_both = grouped_schools[\"pass both\"].sum()\n",
    "\n",
    "school_type = grouped_schools[\"type\"].unique()\n",
    "\n",
    "school_mean_math = grouped_schools[\"math_score\"].mean()\n",
    "school_mean_read = grouped_schools[\"reading_score\"].mean()\n",
    "\n",
    "#creating dataframe\n",
    "school_detail = pd.DataFrame(school_budget)\n",
    "school_detail['students'] = school_students\n",
    "school_detail['type'] = school_type\n",
    "school_detail['budg/stud']=school_detail['budget']/school_detail['students']\n",
    "school_detail['ave math']=round(school_mean_math,2)\n",
    "school_detail['ave read']=round(school_mean_read,2)\n",
    "school_detail['% pass math'] = round((school_pass_math/school_students*100),2)\n",
    "school_detail['% pass read'] = round((school_pass_read/school_students*100),2)\n",
    "school_detail[\"% pass both\"] = round((school_pass_both/school_students*100),2)\n",
    "\n",
    "#copy dataframe for formatting\n",
    "school_detail1 = school_detail.copy()\n",
    "school_detail1[\"budget\"]=school_detail1[\"budget\"].map('{:.0f}'.format)\n",
    "school_detail1[\"budg/stud\"]=school_detail1[\"budg/stud\"].map('${:.0f}'.format)\n",
    "school_detail1[\"% pass math\"]=school_detail1[\"% pass math\"].map('{:.1f}%'.format)\n",
    "school_detail1[\"% pass read\"]=school_detail1[\"% pass read\"].map('{:.1f}%'.format)\n",
    "school_detail1[\"% pass both\"]=school_detail1[\"% pass both\"].map('{:.1f}%'.format)\n",
    "print(\"\")\n",
    "print(\"School Summaries\")\n",
    "print(\"\")\n",
    "print(school_detail1.to_string(columns = [\"type\", \"students\",\"budget\", \"budg/stud\", \"ave math\", \"ave read\", \n",
    "                                        \"% pass math\", \"% pass read\", \"% pass both\"],col_space = 10, \n",
    "                            index_names=False, justify = \"center\",max_colwidth = 20))\n",
    "del school_detail1"
   ]
  },
  {
   "cell_type": "markdown",
   "metadata": {},
   "source": [
    "## Top Performing Schools (By % Overall Passing)"
   ]
  },
  {
   "cell_type": "markdown",
   "metadata": {},
   "source": [
    "* Sort and display the top five performing schools by % overall passing."
   ]
  },
  {
   "cell_type": "code",
   "execution_count": 28,
   "metadata": {
    "scrolled": false
   },
   "outputs": [
    {
     "name": "stdout",
     "output_type": "stream",
     "text": [
      "Top Five Schools by % Passing both Math and Reading\n",
      "\n",
      "                       type     students     budget   budg/stud   ave math   ave read  %pass_math %pass_read %pass_both\n",
      "Cabrera High School  [Charter]    1858     $1,081,356    $582       83.06      83.98      94.1%      97.0%      91.3%  \n",
      "Thomas High School   [Charter]    1635     $1,043,130    $638       83.42      83.85      93.3%      97.3%      91.0%  \n",
      "Griffin High School  [Charter]    1468       $917,500    $625       83.35      83.82      93.4%      97.1%      90.6%  \n",
      "Wilson High School   [Charter]    2283     $1,319,574    $578       83.27      83.99      93.9%      96.5%      90.6%  \n",
      "Pena High School     [Charter]     962       $585,858    $609       83.84      84.04      94.6%      96.0%      90.5%  \n"
     ]
    }
   ],
   "source": [
    "Top_school = school_detail.sort_values(by=\"% pass both\", ascending = False)\n",
    "\n",
    "Top_five = Top_school.head(5)\n",
    "\n",
    "print(\"Top Five Schools by % Passing both Math and Reading\")\n",
    "\n",
    "print(\"\")\n",
    "\n",
    "Top_five1 = Top_five.copy()\n",
    "Top_five1[\"budget\"]=Top_five[\"budget\"].map('${:,.0f}'.format)\n",
    "Top_five1[\"budg/stud\"]=Top_five[\"budg/stud\"].map('${:.0f}'.format)\n",
    "Top_five1[\"% pass math\"]=Top_five[\"% pass math\"].map('{:.1f}%'.format)\n",
    "Top_five1[\"% pass read\"]=Top_five[\"% pass read\"].map('{:.1f}%'.format)\n",
    "Top_five1[\"% pass both\"]=Top_five[\"% pass both\"].map('{:.1f}%'.format)\n",
    "\n",
    "Top_five1 = Top_five1.rename(columns={\"% pass math\":\"%pass_math\", \"% pass read\":\"%pass_read\", \"% pass both\":\"%pass_both\"})\n",
    "\n",
    "print(Top_five1.to_string(columns = [\"type\",\"students\",\"budget\",\"budg/stud\",\n",
    "                                       \"ave math\",\"ave read\",\"%pass_math\",\"%pass_read\",\"%pass_both\"], col_space = 10, \n",
    "                            index_names=False, justify = \"center\"))"
   ]
  },
  {
   "cell_type": "markdown",
   "metadata": {},
   "source": [
    "## Bottom Performing Schools (By % Overall Passing)"
   ]
  },
  {
   "cell_type": "markdown",
   "metadata": {},
   "source": [
    "* Sort and display the five worst-performing schools by % overall passing."
   ]
  },
  {
   "cell_type": "code",
   "execution_count": 31,
   "metadata": {},
   "outputs": [
    {
     "name": "stdout",
     "output_type": "stream",
     "text": [
      "Bottom Five Schools by % Passing both Reading and Math\n",
      "\n",
      "                          type     students    budget   budg/stud   ave math   ave read  %pass_math %pass_read %pass_both\n",
      "Rodriguez High School  [District]    3999     $2547363     $637       76.84      80.74      66.4%      80.2%      53.0%  \n",
      "Figueroa High School   [District]    2949     $1884411     $639       76.71      81.16      66.0%      80.7%      53.2%  \n",
      "Huang High School      [District]    2917     $1910635     $655       76.63      81.18      65.7%      81.3%      53.5%  \n",
      "Hernandez High School  [District]    4635     $3022020     $652       77.29      80.93      66.8%      80.9%      53.5%  \n",
      "Johnson High School    [District]    4761     $3094650     $650       77.07      80.97      66.1%      81.2%      53.5%  \n"
     ]
    }
   ],
   "source": [
    "Bottom_five = Top_school.tail(5)\n",
    "Bottom_five = Bottom_five.sort_values(by=\"% pass both\", ascending = True)\n",
    "print(\"Bottom Five Schools by % Passing both Reading and Math\")\n",
    "print(\"\")\n",
    "\n",
    "#Score_by_Spend_df['ave math'] = Score_by_Spend_df['ave math'].map('{:.2f}'.format)\n",
    "\n",
    "Bottom_five1 = Bottom_five.copy()\n",
    "Bottom_five1[\"budget\"]=Bottom_five[\"budget\"].map('${:.0f}'.format)\n",
    "Bottom_five1[\"budg/stud\"]=Bottom_five[\"budg/stud\"].map('${:.0f}'.format)\n",
    "Bottom_five1[\"% pass math\"]=Bottom_five[\"% pass math\"].map('{:.1f}%'.format)\n",
    "Bottom_five1[\"% pass read\"]=Bottom_five[\"% pass read\"].map('{:.1f}%'.format)\n",
    "Bottom_five1[\"% pass both\"]=Bottom_five[\"% pass both\"].map('{:.1f}%'.format)\n",
    "\n",
    "Bottom_five1 = Bottom_five1.rename(columns={\"% pass math\":\"%pass_math\", \"% pass read\":\"%pass_read\", \"% pass both\":\"%pass_both\"})\n",
    "\n",
    "print(Bottom_five1.to_string(columns = [\"type\",\"students\",\"budget\",\"budg/stud\",\n",
    "                                       \"ave math\",\"ave read\",\"%pass_math\",\"%pass_read\",\"%pass_both\"], col_space = 10, \n",
    "                            index_names=False, justify = \"center\"))"
   ]
  },
  {
   "cell_type": "code",
   "execution_count": null,
   "metadata": {},
   "outputs": [],
   "source": []
  },
  {
   "cell_type": "markdown",
   "metadata": {
    "collapsed": true
   },
   "source": [
    "## Math Scores by Grade"
   ]
  },
  {
   "cell_type": "markdown",
   "metadata": {},
   "source": [
    "* Create a table that lists the average Math Score for students of each grade level (9th, 10th, 11th, 12th) at each school.\n",
    "\n",
    "  * Create a pandas series for each grade. Hint: use a conditional statement.\n",
    "  \n",
    "  * Group each series by school\n",
    "  \n",
    "  * Combine the series into a dataframe\n",
    "  \n",
    "  * Optional: give the displayed data cleaner formatting"
   ]
  },
  {
   "cell_type": "code",
   "execution_count": 32,
   "metadata": {},
   "outputs": [
    {
     "name": "stdout",
     "output_type": "stream",
     "text": [
      "                        math_9th     math_10th    math_11th    math_12th \n",
      "Bailey High School        77.08        77.00        77.52        76.49   \n",
      "Cabrera High School       83.09        83.15        82.77        83.28   \n",
      "Figueroa High School      76.40        76.54        76.88        77.15   \n",
      "Ford High School          77.36        77.67        76.92        76.18   \n",
      "Griffin High School       82.04        84.23        83.84        83.36   \n",
      "Hernandez High School     77.44        77.34        77.14        77.19   \n",
      "Holden High School        83.79        83.43        85.00        82.86   \n",
      "Huang High School         77.03        75.91        76.45        77.23   \n",
      "Johnson High School       77.19        76.69        77.49        76.86   \n",
      "Pena High School          83.63        83.37        84.33        84.12   \n",
      "Rodriguez High School     76.86        76.61        76.40        77.69   \n",
      "Shelton High School       83.42        82.92        83.38        83.78   \n",
      "Thomas High School        83.59        83.09        83.50        83.50   \n",
      "Wilson High School        83.09        83.72        83.20        83.04   \n",
      "Wright High School        83.26        84.01        83.84        83.64   \n"
     ]
    }
   ],
   "source": [
    "Math_9th_df = school_data_complete[school_data_complete[\"grade\"] == \"9th\"]\n",
    "Math_9th_df = Math_9th_df[[\"school_name\",\"math_score\"]]\n",
    "Math_9th_group = Math_9th_df.groupby(\"school_name\")\n",
    "Math_9th=round(Math_9th_group.mean(),2)\n",
    "Math_by_Grade = Math_9th.rename(columns = {\"math_score\":\"math_9th\"})\n",
    "\n",
    "Math_10th_df = school_data_complete[school_data_complete[\"grade\"] == \"10th\"]\n",
    "Math_10th_df = Math_10th_df[[\"school_name\",\"math_score\"]]\n",
    "Math_10th_group = Math_10th_df.groupby(\"school_name\")\n",
    "Math_10th=round(Math_10th_group.mean(),2)\n",
    "#Math_10th = Math_10th.rename(columns = {\"math_score\":\"math_10th\"})\n",
    "\n",
    "Math_11th_df = school_data_complete[school_data_complete[\"grade\"] == \"11th\"]\n",
    "Math_11th_df = Math_11th_df[[\"school_name\",\"math_score\"]]\n",
    "Math_11th_group = Math_11th_df.groupby(\"school_name\")\n",
    "Math_11th=round(Math_11th_group.mean(),2)\n",
    "\n",
    "Math_12th_df = school_data_complete[school_data_complete[\"grade\"] == \"12th\"]\n",
    "Math_12th_df = Math_12th_df[[\"school_name\",\"math_score\"]]\n",
    "Math_12th_group = Math_12th_df.groupby(\"school_name\")\n",
    "Math_12th=round(Math_12th_group.mean(),2)\n",
    "\n",
    "Math_by_Grade[\"math_10th\"] = Math_10th\n",
    "Math_by_Grade[\"math_11th\"] = Math_11th\n",
    "Math_by_Grade[\"math_12th\"] = Math_12th\n",
    "print(Math_by_Grade.to_string(col_space = 12, justify = \"center\",index = True, index_names = False))"
   ]
  },
  {
   "cell_type": "markdown",
   "metadata": {},
   "source": [
    "## Reading Score by Grade "
   ]
  },
  {
   "cell_type": "markdown",
   "metadata": {},
   "source": [
    "* Perform the same operations as above for reading scores"
   ]
  },
  {
   "cell_type": "code",
   "execution_count": 33,
   "metadata": {},
   "outputs": [
    {
     "name": "stdout",
     "output_type": "stream",
     "text": [
      "                       reading_9th  reading_10th  reading_11th  reading_12th\n",
      "Bailey High School        81.30         80.91         80.95         80.91   \n",
      "Cabrera High School       83.68         84.25         83.79         84.29   \n",
      "Figueroa High School      81.20         81.41         80.64         81.38   \n",
      "Ford High School          80.63         81.26         80.40         80.66   \n",
      "Griffin High School       83.37         83.71         84.29         84.01   \n",
      "Hernandez High School     80.87         80.66         81.40         80.86   \n",
      "Holden High School        83.68         83.32         83.82         84.70   \n",
      "Huang High School         81.29         81.51         81.42         80.31   \n",
      "Johnson High School       81.26         80.77         80.62         81.23   \n",
      "Pena High School          83.81         83.61         84.34         84.59   \n",
      "Rodriguez High School     80.99         80.63         80.86         80.38   \n",
      "Shelton High School       84.12         83.44         84.37         82.78   \n",
      "Thomas High School        83.73         84.25         83.59         83.83   \n",
      "Wilson High School        83.94         84.02         83.76         84.32   \n",
      "Wright High School        83.83         83.81         84.16         84.07   \n"
     ]
    }
   ],
   "source": [
    "Read_9th_df = school_data_complete[school_data_complete[\"grade\"] == \"9th\"]\n",
    "Read_9th_df = Read_9th_df[[\"school_name\",\"reading_score\"]]\n",
    "Read_9th_group = Read_9th_df.groupby(\"school_name\")\n",
    "Read_9th=round(Read_9th_group.mean(),2)\n",
    "Read_by_Grade = Read_9th.rename(columns = {\"reading_score\":\"reading_9th\"})\n",
    "\n",
    "Read_10th_df = school_data_complete[school_data_complete[\"grade\"] == \"10th\"]\n",
    "Read_10th_df = Read_10th_df[[\"school_name\",\"reading_score\"]]\n",
    "Read_10th_group = Read_10th_df.groupby(\"school_name\")\n",
    "Read_10th=round(Read_10th_group.mean(),2)\n",
    "\n",
    "Read_11th_df = school_data_complete[school_data_complete[\"grade\"] == \"11th\"]\n",
    "Read_11th_df = Read_11th_df[[\"school_name\",\"reading_score\"]]\n",
    "Read_11th_group = Read_11th_df.groupby(\"school_name\")\n",
    "Read_11th=round(Read_11th_group.mean(),2)\n",
    "\n",
    "Read_12th_df = school_data_complete[school_data_complete[\"grade\"] == \"12th\"]\n",
    "Read_12th_df = Read_12th_df[[\"school_name\",\"reading_score\"]]\n",
    "Read_12th_group = Read_12th_df.groupby(\"school_name\")\n",
    "Read_12th=round(Read_12th_group.mean(),2)\n",
    "\n",
    "Read_by_Grade[\"reading_10th\"] = Read_10th\n",
    "Read_by_Grade[\"reading_11th\"] = Read_11th\n",
    "Read_by_Grade[\"reading_12th\"] = Read_12th\n",
    "print(Read_by_Grade.to_string(col_space = 12, justify = \"center\",index = True, index_names = False))"
   ]
  },
  {
   "cell_type": "markdown",
   "metadata": {},
   "source": [
    "## Scores by School Spending"
   ]
  },
  {
   "cell_type": "markdown",
   "metadata": {},
   "source": [
    "* Create a table that breaks down school performances based on average Spending Ranges (Per Student). Use 4 reasonable bins to group school spending. Include in the table each of the following:\n",
    "  * Average Math Score\n",
    "  * Average Reading Score\n",
    "  * % Passing Math\n",
    "  * % Passing Reading\n",
    "  * Overall Passing Rate (Average of the above two)"
   ]
  },
  {
   "cell_type": "code",
   "execution_count": 34,
   "metadata": {},
   "outputs": [
    {
     "name": "stdout",
     "output_type": "stream",
     "text": [
      "   budg/std      ave math     ave read   % pass math  % pass read  % pass both \n",
      "    $0 to $584     83.45        83.94       93.46%       96.61%       90.37%   \n",
      "  $584 to $629     81.90        83.16       87.13%       92.72%       81.42%   \n",
      "  $629 to $644     78.52        81.62       73.48%       84.39%       62.86%   \n",
      "  $644 to $675     77.00        81.03       66.16%       81.13%       53.53%   \n"
     ]
    }
   ],
   "source": [
    "\n",
    "bins = [0,584,629,644,675] #setting binning ranges\n",
    "\n",
    "labels = [1,2,3,4]\n",
    "school_detail['binned'] = pd.cut(school_detail['budg/stud'], bins,labels=labels, include_lowest = False)\n",
    "\n",
    "bin_1_df = ( school_detail[school_detail[\"binned\"] == 1]) # collect all schools bin 1\n",
    "bin_2_df = ( school_detail[school_detail[\"binned\"] == 2]) # collect all schools bin 2\n",
    "bin_3_df = ( school_detail[school_detail[\"binned\"] == 3]) # collect all schools bin 3\n",
    "bin_4_df = ( school_detail[school_detail[\"binned\"] == 4]) # collect all schools bin 4\n",
    "\n",
    "bin_1 = bin_1_df.mean(axis = 0) #average of all columns\n",
    "bin_2 = bin_2_df.mean(axis=0)\n",
    "bin_3 = bin_3_df.mean(axis=0)\n",
    "bin_4 = bin_4_df.mean(axis=0)\n",
    "\n",
    "\n",
    "\n",
    "bins_label = [str(f\" ${bins[0]} to ${bins[1]}\"), str(f\" ${bins[1]} to ${bins[2]}\"),\n",
    "              str(f\" ${bins[2]} to ${bins[3]}\"), str(f\" ${bins[3]} to ${bins[4]}\")]\n",
    "\n",
    "Score_by_Spend_df = pd.DataFrame([bin_1[3:8], bin_2[3:8], bin_3[3:8], bin_4[3:8]])\n",
    "\n",
    "#df['cost'] = df['cost'].map('${:,.2f}'.format)\n",
    "\n",
    "\n",
    "Score_by_Spend_df.insert(0,\"budg/std\",bins_label)\n",
    "\n",
    "Score_by_Spend_df['ave math'] = Score_by_Spend_df['ave math'].map('{:.2f}'.format)\n",
    "Score_by_Spend_df['ave read'] = Score_by_Spend_df['ave read'].map('{:.2f}'.format)\n",
    "Score_by_Spend_df['% pass math'] = Score_by_Spend_df['% pass math'].map('{:.2f}%'.format)\n",
    "Score_by_Spend_df['% pass read'] = Score_by_Spend_df['% pass read'].map('{:.2f}%'.format)\n",
    "Score_by_Spend_df['% pass both'] = Score_by_Spend_df['% pass both'].map('{:.2f}%'.format)\n",
    "\n",
    "print(Score_by_Spend_df.to_string(col_space = 12, justify = \"center\",index = False))\n",
    "\n",
    "\n",
    "\n",
    "\n"
   ]
  },
  {
   "cell_type": "markdown",
   "metadata": {},
   "source": [
    "## Scores by School Size"
   ]
  },
  {
   "cell_type": "markdown",
   "metadata": {},
   "source": [
    "* Perform the same operations as above, based on school size."
   ]
  },
  {
   "cell_type": "code",
   "execution_count": 35,
   "metadata": {
    "scrolled": true
   },
   "outputs": [
    {
     "name": "stdout",
     "output_type": "stream",
     "text": [
      " School Size     ave math     ave read   % pass math  % pass read  % pass both \n",
      "     0 to 1000     83.82        83.93       93.55%       96.10%       89.89%   \n",
      "  1000 to 2000     83.37        83.87       93.60%       96.79%       90.62%   \n",
      "  2000 to 5000     77.74        81.34       69.96%       82.77%       58.29%   \n"
     ]
    }
   ],
   "source": [
    "#del school_detail[\"binned\"]\n",
    "\n",
    "max_student = school_detail[\"students\"].max()\n",
    "min_student = school_detail[\"students\"].min()\n",
    "\n",
    "bin_size = (max_student-min_student)/3\n",
    "\n",
    "#bins = [int(round((min_student+bin_size*i),0)) for i in range(0,4)]\n",
    "bins = (0,1000,2000,5000)\n",
    "\n",
    "labels = [1,2,3]\n",
    "school_detail['binned'] = pd.cut(school_detail['students'], bins,labels=labels, include_lowest = True)\n",
    "\n",
    "bin_1_df = ( school_detail[school_detail[\"binned\"] == 1])\n",
    "bin_2_df = ( school_detail[school_detail[\"binned\"] == 2])\n",
    "bin_3_df = ( school_detail[school_detail[\"binned\"] == 3])\n",
    "\n",
    "bin_1 = bin_1_df.mean(axis = 0) #average of columns\n",
    "bin_2 = bin_2_df.mean(axis=0)\n",
    "bin_3 = bin_3_df.mean(axis=0)\n",
    "\n",
    "\n",
    "bins_label = [str(f\" {bins[0]} to {bins[1]}\"), str(f\" {bins[1]} to {bins[2]}\"),\n",
    "              str(f\" {bins[2]} to {bins[3]}\")]\n",
    "\n",
    "Score_by_Size_df = pd.DataFrame([bin_1[3:8], bin_2[3:8], bin_3[3:8]])\n",
    "\n",
    "Score_by_Size_df.insert(0,\"School Size\",bins_label)\n",
    "\n",
    "Score_by_Size_df['ave math'] = Score_by_Size_df['ave math'].map('{:.2f}'.format)\n",
    "Score_by_Size_df['ave read'] = Score_by_Size_df['ave read'].map('{:.2f}'.format)\n",
    "Score_by_Size_df['% pass math'] = Score_by_Size_df['% pass math'].map('{:.2f}%'.format)\n",
    "Score_by_Size_df['% pass read'] = Score_by_Size_df['% pass read'].map('{:.2f}%'.format)\n",
    "Score_by_Size_df['% pass both'] = Score_by_Size_df['% pass both'].map('{:.2f}%'.format)\n",
    "\n",
    "print(Score_by_Size_df.to_string(col_space = 12, justify = \"center\",index = False))\n",
    "\n"
   ]
  },
  {
   "cell_type": "markdown",
   "metadata": {},
   "source": [
    "## Scores by School Type"
   ]
  },
  {
   "cell_type": "markdown",
   "metadata": {},
   "source": [
    "* Perform the same operations as above, based on school type"
   ]
  },
  {
   "cell_type": "code",
   "execution_count": 36,
   "metadata": {},
   "outputs": [
    {
     "name": "stdout",
     "output_type": "stream",
     "text": [
      "School Type    ave math     ave read   % pass math  % pass read  % pass both \n",
      "   Charter       83.47        83.90       93.62%       96.59%       90.43%   \n",
      "  District       76.96        80.97       66.55%       80.80%       53.67%   \n"
     ]
    }
   ],
   "source": [
    "bin_1_df = ( school_detail[school_detail[\"type\"] == \"Charter\"])\n",
    "bin_2_df = ( school_detail[school_detail[\"type\"] == \"District\"])\n",
    "\n",
    "bin_1 = bin_1_df.mean(axis = 0) #average of columns\n",
    "bin_2 = bin_2_df.mean(axis=0)\n",
    "\n",
    "bins_label = [\"Charter\", \"District\"]\n",
    "\n",
    "Score_by_Type_df = pd.DataFrame([bin_1[3:8], bin_2[3:8]])\n",
    "\n",
    "Score_by_Type_df.insert(0,\"School Type\",bins_label)\n",
    "\n",
    "Score_by_Type_df['ave math'] = Score_by_Type_df['ave math'].map('{:.2f}'.format)\n",
    "Score_by_Type_df['ave read'] = Score_by_Type_df['ave read'].map('{:.2f}'.format)\n",
    "Score_by_Type_df['% pass math'] = Score_by_Type_df['% pass math'].map('{:.2f}%'.format)\n",
    "Score_by_Type_df['% pass read'] = Score_by_Type_df['% pass read'].map('{:.2f}%'.format)\n",
    "Score_by_Type_df['% pass both'] = Score_by_Type_df['% pass both'].map('{:.2f}%'.format)\n",
    "\n",
    "print(Score_by_Type_df.to_string(col_space = 12, justify = \"center\",index = False))"
   ]
  },
  {
   "cell_type": "code",
   "execution_count": null,
   "metadata": {},
   "outputs": [],
   "source": []
  },
  {
   "cell_type": "code",
   "execution_count": null,
   "metadata": {},
   "outputs": [],
   "source": []
  }
 ],
 "metadata": {
  "anaconda-cloud": {},
  "kernel_info": {
   "name": "python3"
  },
  "kernelspec": {
   "display_name": "Python 3",
   "language": "python",
   "name": "python3"
  },
  "language_info": {
   "codemirror_mode": {
    "name": "ipython",
    "version": 3
   },
   "file_extension": ".py",
   "mimetype": "text/x-python",
   "name": "python",
   "nbconvert_exporter": "python",
   "pygments_lexer": "ipython3",
   "version": "3.7.6"
  },
  "latex_envs": {
   "LaTeX_envs_menu_present": true,
   "autoclose": false,
   "autocomplete": true,
   "bibliofile": "biblio.bib",
   "cite_by": "apalike",
   "current_citInitial": 1,
   "eqLabelWithNumbers": true,
   "eqNumInitial": 1,
   "hotkeys": {
    "equation": "Ctrl-E",
    "itemize": "Ctrl-I"
   },
   "labels_anchors": false,
   "latex_user_defs": false,
   "report_style_numbering": false,
   "user_envs_cfg": false
  },
  "nteract": {
   "version": "0.8.4"
  }
 },
 "nbformat": 4,
 "nbformat_minor": 1
}
